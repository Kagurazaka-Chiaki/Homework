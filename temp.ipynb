{
 "cells": [
  {
   "cell_type": "code",
   "execution_count": 1,
   "metadata": {},
   "outputs": [],
   "source": [
    "class QuadtreeNode:\n",
    "    def __init__(self, x, y, size, depth, height_data, max_depth, threshold):\n",
    "        self.x = x                # 区域左上角的x坐标\n",
    "        self.y = y                # 区域左上角的y坐标\n",
    "        self.size = size          # 区域的尺寸（假设为正方形）\n",
    "        self.depth = depth        # 当前节点的深度\n",
    "        self.height_data = height_data  # 区域内的高度数据（二维数组）\n",
    "        self.max_depth = max_depth      # 最大递归深度\n",
    "        self.threshold = threshold      # 误差阈值\n",
    "        self.children = []        # 子节点列表\n",
    "        self.is_leaf = False      # 是否为叶子节点\n",
    "\n",
    "        self.subdivide()          # 开始细分\n",
    "\n",
    "    def subdivide(self):\n",
    "        max_height = self.height_data.max()\n",
    "        min_height = self.height_data.min()\n",
    "        delta = max_height - min_height\n",
    "\n",
    "        # 判断是否需要细分\n",
    "        if delta > self.threshold and self.depth < self.max_depth and self.size > 1:\n",
    "            half_size = self.size // 2\n",
    "\n",
    "            # 获取子区域的高度数据\n",
    "            data00 = self.height_data[0:half_size, 0:half_size]                # 左上\n",
    "            data01 = self.height_data[0:half_size, half_size:self.size]        # 右上\n",
    "            data10 = self.height_data[half_size:self.size, 0:half_size]        # 左下\n",
    "            data11 = self.height_data[half_size:self.size, half_size:self.size]# 右下\n",
    "\n",
    "            # 创建四个子节点\n",
    "            self.children.append(QuadtreeNode(self.x, self.y, half_size, self.depth+1, data00, self.max_depth, self.threshold))\n",
    "            self.children.append(QuadtreeNode(self.x + half_size, self.y, half_size, self.depth+1, data01, self.max_depth, self.threshold))\n",
    "            self.children.append(QuadtreeNode(self.x, self.y + half_size, half_size, self.depth+1, data10, self.max_depth, self.threshold))\n",
    "            self.children.append(QuadtreeNode(self.x + half_size, self.y + half_size, half_size, self.depth+1, data11, self.max_depth, self.threshold))\n",
    "        else:\n",
    "            self.is_leaf = True  # 不再细分，标记为叶子节点\n",
    "\n",
    "# 使用示例\n",
    "import numpy as np\n",
    "\n",
    "# 假设height_map是一个二维的numpy数组，代表高度图\n",
    "height_map = np.random.rand(128, 128) * 255  # 生成一个随机高度图\n",
    "\n",
    "# 创建四叉树\n",
    "root_node = QuadtreeNode(x=0, y=0, size=128, depth=0, height_data=height_map, max_depth=6, threshold=10)"
   ]
  }
 ],
 "metadata": {
  "kernelspec": {
   "display_name": "base",
   "language": "python",
   "name": "python3"
  },
  "language_info": {
   "codemirror_mode": {
    "name": "ipython",
    "version": 3
   },
   "file_extension": ".py",
   "mimetype": "text/x-python",
   "name": "python",
   "nbconvert_exporter": "python",
   "pygments_lexer": "ipython3",
   "version": "3.12.3"
  }
 },
 "nbformat": 4,
 "nbformat_minor": 2
}
