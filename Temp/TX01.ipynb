{
 "cells": [
  {
   "cell_type": "code",
   "execution_count": 3,
   "metadata": {},
   "outputs": [],
   "source": [
    "def replace_zeros(arr):\n",
    "    n = len(arr)\n",
    "    i = 0\n",
    "    while i < n:\n",
    "        if arr[i] == 1:\n",
    "            j = i + 2\n",
    "            while j < n and arr[j] == 0:\n",
    "                j += 1\n",
    "            if j < n:\n",
    "                arr[j] = 1\n",
    "        i += 1\n",
    "    return arr\n",
    "\n"
   ]
  },
  {
   "cell_type": "code",
   "execution_count": 4,
   "metadata": {},
   "outputs": [
    {
     "name": "stdout",
     "output_type": "stream",
     "text": [
      "[1, 0, 0, 0, 1]\n",
      "[0, 1, 0, 0, 0]\n"
     ]
    }
   ],
   "source": [
    "# 测试\n",
    "print(replace_zeros([1, 0, 0, 0, 1]))  # 输出: [1, 0, 1, 0, 1]\n",
    "print(replace_zeros([0, 1, 0, 0, 0]))  # 输出: [0, 1, 0, 1, 0]"
   ]
  }
 ],
 "metadata": {
  "kernelspec": {
   "display_name": "base",
   "language": "python",
   "name": "python3"
  },
  "language_info": {
   "codemirror_mode": {
    "name": "ipython",
    "version": 3
   },
   "file_extension": ".py",
   "mimetype": "text/x-python",
   "name": "python",
   "nbconvert_exporter": "python",
   "pygments_lexer": "ipython3",
   "version": "3.12.3"
  }
 },
 "nbformat": 4,
 "nbformat_minor": 2
}
