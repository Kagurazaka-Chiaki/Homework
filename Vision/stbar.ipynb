{
 "cells": [
  {
   "cell_type": "code",
   "execution_count": 2,
   "metadata": {},
   "outputs": [],
   "source": [
    "import sys\n",
    "import numpy as np\n",
    "import cv2 as cv"
   ]
  },
  {
   "cell_type": "code",
   "execution_count": 3,
   "metadata": {},
   "outputs": [
    {
     "name": "stdout",
     "output_type": "stream",
     "text": [
      "图像总面积: 693611\n"
     ]
    }
   ],
   "source": [
    "img = cv.imread(cv.samples.findFile(\"4.2.png\"))\n",
    "if img is None:\n",
    "    sys.exit(\"Could not read the image.\")\n",
    "\n",
    "height, width = img.shape[:2]\n",
    "total_area = height * width\n",
    "print(f\"图像总面积: {total_area}\")"
   ]
  },
  {
   "cell_type": "code",
   "execution_count": 4,
   "metadata": {},
   "outputs": [
    {
     "data": {
      "text/plain": [
       "-1"
      ]
     },
     "execution_count": 4,
     "metadata": {},
     "output_type": "execute_result"
    }
   ],
   "source": [
    "# 将图像转换为HSV颜色空间，便于颜色分离\n",
    "hsv = cv.cvtColor(img, cv.COLOR_RGB2HSV)\n",
    "cv.imshow(\"Contours\", hsv)\n",
    "cv.waitKey(0)"
   ]
  },
  {
   "cell_type": "code",
   "execution_count": 15,
   "metadata": {},
   "outputs": [
    {
     "data": {
      "text/plain": [
       "-1"
      ]
     },
     "execution_count": 15,
     "metadata": {},
     "output_type": "execute_result"
    }
   ],
   "source": [
    "# 定义特定颜色的HSV阈值\n",
    "lower_color = np.array([70, 200, 200])\n",
    "upper_color = np.array([100, 255, 255])\n",
    "mask1 = cv.inRange(hsv, lower_color, upper_color)\n",
    "cv.imshow(\"Contours\", mask1)\n",
    "cv.waitKey(0)"
   ]
  },
  {
   "cell_type": "code",
   "execution_count": 16,
   "metadata": {},
   "outputs": [
    {
     "data": {
      "text/plain": [
       "-1"
      ]
     },
     "execution_count": 16,
     "metadata": {},
     "output_type": "execute_result"
    }
   ],
   "source": [
    "lower_color = np.array([70, 200, 200])\n",
    "upper_color = np.array([110, 255, 255])\n",
    "mask2 = cv.inRange(hsv, lower_color, upper_color)\n",
    "cv.imshow(\"Contours\", mask2)\n",
    "cv.waitKey(0)"
   ]
  },
  {
   "cell_type": "code",
   "execution_count": 17,
   "metadata": {},
   "outputs": [
    {
     "data": {
      "text/plain": [
       "-1"
      ]
     },
     "execution_count": 17,
     "metadata": {},
     "output_type": "execute_result"
    }
   ],
   "source": [
    "# 合并两个掩膜\n",
    "mask = cv.bitwise_or(mask1, mask2)\n",
    "cv.imshow(\"Contours\", mask)\n",
    "cv.waitKey(0)"
   ]
  },
  {
   "cell_type": "code",
   "execution_count": 8,
   "metadata": {},
   "outputs": [
    {
     "data": {
      "text/plain": [
       "-1"
      ]
     },
     "execution_count": 8,
     "metadata": {},
     "output_type": "execute_result"
    }
   ],
   "source": [
    "# 腐蚀和膨胀操作，去除噪声\n",
    "kernel = np.ones((5, 5), np.uint8)\n",
    "mask = cv.morphologyEx(mask, cv.MORPH_CLOSE, kernel)\n",
    "cv.imshow(\"Contours\", mask)\n",
    "cv.waitKey(0)"
   ]
  },
  {
   "cell_type": "code",
   "execution_count": 11,
   "metadata": {},
   "outputs": [
    {
     "data": {
      "text/plain": [
       "-1"
      ]
     },
     "execution_count": 11,
     "metadata": {},
     "output_type": "execute_result"
    }
   ],
   "source": [
    "# 找到轮廓\n",
    "contours, hierarchy = cv.findContours(mask, cv.RETR_EXTERNAL, cv.CHAIN_APPROX_SIMPLE)\n",
    "# 创建一个空白的掩膜，用于填充轮廓\n",
    "filled_mask = np.zeros_like(mask)\n",
    "\n",
    "# 绘制并填充轮廓\n",
    "cv.drawContours(img, contours, -1,  (0, 255, 0), 2)\n",
    "cv.imshow(\"Contours\", img)\n",
    "cv.waitKey(0)"
   ]
  },
  {
   "cell_type": "code",
   "execution_count": 10,
   "metadata": {},
   "outputs": [
    {
     "name": "stdout",
     "output_type": "stream",
     "text": [
      "轮廓总面积: 5062.0\n",
      "轮廓占比: 0.73%\n"
     ]
    }
   ],
   "source": [
    "cont_sum = 0\n",
    "# 计算每个轮廓的面积并打印\n",
    "for i, cnt in enumerate(contours):\n",
    "    area = cv.contourArea(cnt)\n",
    "    cont_sum += area\n",
    "print(f\"轮廓总面积: {cont_sum}\")\n",
    "print(f\"轮廓占比: {cont_sum / total_area * 100:.2f}%\")\n",
    "\n"
   ]
  },
  {
   "cell_type": "code",
   "execution_count": null,
   "metadata": {},
   "outputs": [],
   "source": []
  }
 ],
 "metadata": {
  "kernelspec": {
   "display_name": "base",
   "language": "python",
   "name": "python3"
  },
  "language_info": {
   "codemirror_mode": {
    "name": "ipython",
    "version": 3
   },
   "file_extension": ".py",
   "mimetype": "text/x-python",
   "name": "python",
   "nbconvert_exporter": "python",
   "pygments_lexer": "ipython3",
   "version": "3.12.7"
  }
 },
 "nbformat": 4,
 "nbformat_minor": 2
}
